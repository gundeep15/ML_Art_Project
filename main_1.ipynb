{
 "cells": [
  {
   "cell_type": "code",
   "execution_count": 1,
   "metadata": {
    "scrolled": true
   },
   "outputs": [
    {
     "name": "stderr",
     "output_type": "stream",
     "text": [
      "Using TensorFlow backend.\n"
     ]
    }
   ],
   "source": [
    "import pandas as pd\n",
    "import numpy as np\n",
    "import matplotlib.pyplot as plt\n",
    "from sklearn.preprocessing import MinMaxScaler\n",
    "from sklearn.feature_extraction.image import extract_patches \n",
    "from sklearn.model_selection import train_test_split\n",
    "import keras\n",
    "from keras.utils import to_categorical\n",
    "from keras import layers\n",
    "from keras import models\n",
    "from keras.applications import ResNet50\n"
   ]
  },
  {
   "cell_type": "code",
   "execution_count": 2,
   "metadata": {},
   "outputs": [],
   "source": [
    "def processing_pipeline(data, patch_size, painter_id, shuffle=True):\n",
    "    \"\"\"\n",
    "    Function that converts data to x and y arrays, where x is an array of patches \n",
    "    and y is an array of corresponding labels.\n",
    "    \n",
    "    Parameters\n",
    "    ----------\n",
    "    data: loaded painting data\n",
    "    patch_size: integer\n",
    "        The length of the patch square side\n",
    "    painter_id: integer\n",
    "        painter_i indicates artist #i+1, like painter_0 means artist #1\n",
    "    shuffle: boolean\n",
    "        Whether or not to shuffle the elements in x and y\n",
    "        \n",
    "    Returns\n",
    "    ----------\n",
    "    x, y: x is an array of patches, y is an array of the corresponding labels that indicate \n",
    "    painter id\n",
    "    \"\"\"\n",
    "    # normalize the loaded data to be between 0 and 1\n",
    "    mms = MinMaxScaler()\n",
    "    data_scaled = mms.fit_transform(data)\n",
    "    \n",
    "    # get patches\n",
    "    patches = extract_patches(data_scaled, patch_shape = patch_size, extraction_step = patch_size)\n",
    "    patches_reshaped = patches.reshape(-1, patch_size, patch_size)\n",
    "    \n",
    "    # label patches based off of the painter id\n",
    "    labels = []\n",
    "    def get_label(painter_id, patch_arr):\n",
    "        labels.clear()\n",
    "        labels.append(painter_id * patch_arr)\n",
    "        return labels\n",
    "\n",
    "    p_id = painter_id # change painter id here\n",
    "    # note that the artist with painter id #i is actually artist #i+1\n",
    "    list_len = np.ones(len(patches_reshaped))\n",
    "    y_list = get_label(p_id, list_len)\n",
    "    y_list = np.reshape(y_list, (len(patches_reshaped),1))\n",
    "    \n",
    "    # shuffle data\n",
    "    if shuffle:\n",
    "        shuffle_idx = np.arange(len(patches_reshaped))\n",
    "        np.random.shuffle(shuffle_idx)\n",
    "        x = patches_reshaped[shuffle_idx]\n",
    "        y = y_list[shuffle_idx]\n",
    "   \n",
    "    return x, y  # use this when shuffle=True\n",
    "    #return patches_reshaped, y_list  # use this when shuffle=False\n",
    "    "
   ]
  },
  {
   "cell_type": "code",
   "execution_count": 3,
   "metadata": {},
   "outputs": [],
   "source": [
    "size_update = 220 # updata patch_size here\n",
    "\n",
    "# load data and convert data to a list arrays of patches (x) and corresponding labels (y)\n",
    "# painter #1 with painter_id 0\n",
    "p1_a = np.fromfile('/home/ml/h_data_s/height1as', dtype=np.float64)\n",
    "p1_a = p1_a.reshape(3001,2401)\n",
    "p1_b = np.fromfile('/home/ml/h_data_s/height1bs', dtype=np.float64)\n",
    "p1_b = p1_b.reshape(3001,2401)\n",
    "p1_c = np.fromfile('/home/ml/h_data_s/height1cs', dtype=np.float64)\n",
    "p1_c = p1_c.reshape(3001,2401)\n",
    "p1a_x, p1a_y = processing_pipeline(p1_a, patch_size = size_update, painter_id=0)\n",
    "p1b_x, p1b_y = processing_pipeline(p1_b, patch_size = size_update, painter_id=0)\n",
    "p1c_x, p1c_y = processing_pipeline(p1_c, patch_size = size_update, painter_id=0)\n",
    "\n",
    "# painter #2 with painter_id 1\n",
    "p2_a = np.fromfile('/home/ml/h_data_s/height2as', dtype=np.float64)\n",
    "p2_a = p2_a.reshape(3001,2401)\n",
    "p2_b = np.fromfile('/home/ml/h_data_s/height2bs', dtype=np.float64)\n",
    "p2_b = p2_b.reshape(3001,2401)\n",
    "p2_c = np.fromfile('/home/ml/h_data_s/height2cs', dtype=np.float64)\n",
    "p2_c = p2_c.reshape(3001,2401)\n",
    "p2a_x, p2a_y = processing_pipeline(p2_a, patch_size = size_update, painter_id=1)\n",
    "p2b_x, p2b_y = processing_pipeline(p2_b, patch_size = size_update, painter_id=1)\n",
    "p2c_x, p2c_y = processing_pipeline(p2_c, patch_size = size_update, painter_id=1)\n",
    "\n",
    "# painter #3 with painter_id 2\n",
    "p3_a = np.fromfile('/home/ml/h_data_s/height3as', dtype=np.float64)\n",
    "p3_a = p3_a.reshape(3001,2401)\n",
    "p3_b = np.fromfile('/home/ml/h_data_s/height3bs', dtype=np.float64)\n",
    "p3_b = p3_b.reshape(3001,2401)\n",
    "p3_c = np.fromfile('/home/ml/h_data_s/height3cs', dtype=np.float64)\n",
    "p3_c = p3_c.reshape(3001,2401)\n",
    "p3a_x, p3a_y = processing_pipeline(p3_a, patch_size = size_update, painter_id=2)\n",
    "p3b_x, p3b_y = processing_pipeline(p3_b, patch_size = size_update, painter_id=2)\n",
    "p3c_x, p3c_y = processing_pipeline(p3_c, patch_size = size_update, painter_id=2)\n",
    "\n",
    "# painter #4 with painter_id 3\n",
    "p4_a = np.fromfile('/home/ml/h_data_s/height4as', dtype=np.float64)\n",
    "p4_a = p4_a.reshape(3001,2401)\n",
    "p4_b = np.fromfile('/home/ml/h_data_s/height4bs', dtype=np.float64)\n",
    "p4_b = p4_b.reshape(3001,2401)\n",
    "p4_c = np.fromfile('/home/ml/h_data_s/height4cs', dtype=np.float64)\n",
    "p4_c = p4_c.reshape(3001,2401)\n",
    "p4a_x, p4a_y = processing_pipeline(p4_a, patch_size = size_update, painter_id=3)\n",
    "p4b_x, p4b_y = processing_pipeline(p4_b, patch_size = size_update, painter_id=3)\n",
    "p4c_x, p4c_y = processing_pipeline(p4_c, patch_size = size_update, painter_id=3)"
   ]
  },
  {
   "cell_type": "code",
   "execution_count": 4,
   "metadata": {},
   "outputs": [],
   "source": [
    "# getting the whole dataset X and its corresponding label Y\n",
    "X = np.concatenate((p1a_x, p1b_x, p1c_x, p2a_x, p2b_x, p2c_x, p3a_x, p3b_x, p3c_x, p4a_x, p4b_x, p4c_x))\n",
    "Y = np.concatenate((p1a_y, p1b_y, p1c_y, p2a_y, p2b_y, p2c_y, p3a_y, p3b_y, p3c_y, p4a_y, p4b_y, p4c_y))"
   ]
  },
  {
   "cell_type": "code",
   "execution_count": 5,
   "metadata": {},
   "outputs": [],
   "source": [
    "# train-test split, 25% of the whole dataset is test data \n",
    "X_train, X_test, Y_train, Y_test = train_test_split(X, Y, test_size=0.25)\n",
    "\n",
    "# reshaping datasets for Keras\n",
    "X_train = X_train.reshape(*X_train.shape, 1)\n",
    "# splitting train and validation sets\n",
    "x_train = X_train[len(X_test):len(X_train), :]\n",
    "x_validation = X_train[0:len(X_test), :] # validation set has the same length as the test set\n",
    "x_test = X_test.reshape(*X_test.shape, 1)\n",
    "# one-hot encode y\n",
    "Y_train = to_categorical(Y_train, num_classes=None)\n",
    "# splitting train and validation sets\n",
    "y_train = Y_train[len(X_test):len(X_train), :]\n",
    "y_validation = Y_train[0:len(X_test), :]\n",
    "y_test = to_categorical(Y_test, num_classes=None)\n",
    "\n",
    "# before splitting train and validation sets, X and Y\n",
    "# after splitting train and validation sets, x and y "
   ]
  },
  {
   "cell_type": "code",
   "execution_count": 6,
   "metadata": {},
   "outputs": [
    {
     "data": {
      "text/plain": [
       "array([[[0.20437728],\n",
       "        [0.19572512],\n",
       "        [0.20007647],\n",
       "        ...,\n",
       "        [0.04964842],\n",
       "        [0.04041346],\n",
       "        [0.04135758]],\n",
       "\n",
       "       [[0.19240163],\n",
       "        [0.18530604],\n",
       "        [0.19842064],\n",
       "        ...,\n",
       "        [0.04932541],\n",
       "        [0.03621575],\n",
       "        [0.04422711]],\n",
       "\n",
       "       [[0.21277684],\n",
       "        [0.193927  ],\n",
       "        [0.21488069],\n",
       "        ...,\n",
       "        [0.05364317],\n",
       "        [0.03506326],\n",
       "        [0.04584006]],\n",
       "\n",
       "       ...,\n",
       "\n",
       "       [[0.18303445],\n",
       "        [0.17058632],\n",
       "        [0.16611497],\n",
       "        ...,\n",
       "        [0.04643639],\n",
       "        [0.03703795],\n",
       "        [0.04401447]],\n",
       "\n",
       "       [[0.1774736 ],\n",
       "        [0.1697062 ],\n",
       "        [0.17788129],\n",
       "        ...,\n",
       "        [0.05161571],\n",
       "        [0.03835324],\n",
       "        [0.04298455]],\n",
       "\n",
       "       [[0.1950203 ],\n",
       "        [0.18761162],\n",
       "        [0.17825768],\n",
       "        ...,\n",
       "        [0.05140543],\n",
       "        [0.03675543],\n",
       "        [0.04416519]]])"
      ]
     },
     "execution_count": 6,
     "metadata": {},
     "output_type": "execute_result"
    }
   ],
   "source": [
    "x_train[1]"
   ]
  },
  {
   "cell_type": "code",
   "execution_count": 7,
   "metadata": {},
   "outputs": [
    {
     "data": {
      "text/plain": [
       "array([[0., 0., 1., 0.],\n",
       "       [1., 0., 0., 0.],\n",
       "       [0., 1., 0., 0.],\n",
       "       ...,\n",
       "       [1., 0., 0., 0.],\n",
       "       [0., 0., 0., 1.],\n",
       "       [1., 0., 0., 0.]], dtype=float32)"
      ]
     },
     "execution_count": 7,
     "metadata": {},
     "output_type": "execute_result"
    }
   ],
   "source": [
    "y_train"
   ]
  },
  {
   "cell_type": "code",
   "execution_count": 8,
   "metadata": {},
   "outputs": [
    {
     "name": "stdout",
     "output_type": "stream",
     "text": [
      "WARNING:tensorflow:From /home/ml/anaconda3/envs/mlenv/lib/python3.7/site-packages/keras/backend/tensorflow_backend.py:4074: The name tf.nn.avg_pool is deprecated. Please use tf.nn.avg_pool2d instead.\n",
      "\n"
     ]
    }
   ],
   "source": [
    "from keras.models import Sequential\n",
    "from keras.layers import Dense, Conv2D, Flatten, AveragePooling2D\n",
    "\n",
    "model = Sequential()\n",
    "model.add(Conv2D(32, kernel_size=3, activation='relu', input_shape=(220, 220, 1)))\n",
    "model.add(Conv2D(32, kernel_size=3, activation='relu'))\n",
    "model.add(AveragePooling2D(pool_size=(2,2)))\n",
    "\n",
    "model.add(Conv2D(64, kernel_size=3, activation='relu'))\n",
    "model.add(Conv2D(64, kernel_size=3, activation='relu'))\n",
    "model.add(AveragePooling2D(pool_size=(2,2)))\n",
    "\n",
    "model.add(Conv2D(128, kernel_size=3, activation='relu'))\n",
    "model.add(Conv2D(128, kernel_size=3, activation='relu'))\n",
    "model.add(AveragePooling2D(pool_size=(2,2)))\n",
    "\n",
    "model.add(Flatten())\n",
    "model.add(Dense(4, activation='softmax'))\n",
    "          \n",
    "model.compile(optimizer='adam', loss='categorical_crossentropy', \n",
    "              metrics=['accuracy'])"
   ]
  },
  {
   "cell_type": "code",
   "execution_count": 9,
   "metadata": {},
   "outputs": [
    {
     "name": "stdout",
     "output_type": "stream",
     "text": [
      "Model: \"sequential_1\"\n",
      "_________________________________________________________________\n",
      "Layer (type)                 Output Shape              Param #   \n",
      "=================================================================\n",
      "conv2d_1 (Conv2D)            (None, 218, 218, 32)      320       \n",
      "_________________________________________________________________\n",
      "conv2d_2 (Conv2D)            (None, 216, 216, 32)      9248      \n",
      "_________________________________________________________________\n",
      "average_pooling2d_1 (Average (None, 108, 108, 32)      0         \n",
      "_________________________________________________________________\n",
      "conv2d_3 (Conv2D)            (None, 106, 106, 64)      18496     \n",
      "_________________________________________________________________\n",
      "conv2d_4 (Conv2D)            (None, 104, 104, 64)      36928     \n",
      "_________________________________________________________________\n",
      "average_pooling2d_2 (Average (None, 52, 52, 64)        0         \n",
      "_________________________________________________________________\n",
      "conv2d_5 (Conv2D)            (None, 50, 50, 128)       73856     \n",
      "_________________________________________________________________\n",
      "conv2d_6 (Conv2D)            (None, 48, 48, 128)       147584    \n",
      "_________________________________________________________________\n",
      "average_pooling2d_3 (Average (None, 24, 24, 128)       0         \n",
      "_________________________________________________________________\n",
      "flatten_1 (Flatten)          (None, 73728)             0         \n",
      "_________________________________________________________________\n",
      "dense_1 (Dense)              (None, 4)                 294916    \n",
      "=================================================================\n",
      "Total params: 581,348\n",
      "Trainable params: 581,348\n",
      "Non-trainable params: 0\n",
      "_________________________________________________________________\n"
     ]
    }
   ],
   "source": [
    "model.summary()"
   ]
  },
  {
   "cell_type": "code",
   "execution_count": 10,
   "metadata": {},
   "outputs": [
    {
     "name": "stdout",
     "output_type": "stream",
     "text": [
      "WARNING:tensorflow:From /home/ml/anaconda3/envs/mlenv/lib/python3.7/site-packages/keras/backend/tensorflow_backend.py:422: The name tf.global_variables is deprecated. Please use tf.compat.v1.global_variables instead.\n",
      "\n",
      "Train on 780 samples, validate on 390 samples\n",
      "Epoch 1/20\n",
      "780/780 [==============================] - 4s 6ms/step - loss: 1.3569 - accuracy: 0.3013 - val_loss: 1.2498 - val_accuracy: 0.3410\n",
      "Epoch 2/20\n",
      "780/780 [==============================] - 1s 2ms/step - loss: 1.2306 - accuracy: 0.4064 - val_loss: 1.1762 - val_accuracy: 0.4513\n",
      "Epoch 3/20\n",
      "780/780 [==============================] - 1s 2ms/step - loss: 1.1624 - accuracy: 0.4603 - val_loss: 1.1818 - val_accuracy: 0.4744\n",
      "Epoch 4/20\n",
      "780/780 [==============================] - 1s 2ms/step - loss: 1.1492 - accuracy: 0.4359 - val_loss: 1.1558 - val_accuracy: 0.4385\n",
      "Epoch 5/20\n",
      "780/780 [==============================] - 1s 2ms/step - loss: 1.1239 - accuracy: 0.4500 - val_loss: 1.1574 - val_accuracy: 0.4897\n",
      "Epoch 6/20\n",
      "780/780 [==============================] - 1s 2ms/step - loss: 1.1157 - accuracy: 0.4885 - val_loss: 1.1017 - val_accuracy: 0.5154\n",
      "Epoch 7/20\n",
      "780/780 [==============================] - 1s 2ms/step - loss: 1.0573 - accuracy: 0.5359 - val_loss: 1.1403 - val_accuracy: 0.4359\n",
      "Epoch 8/20\n",
      "780/780 [==============================] - 1s 2ms/step - loss: 1.0211 - accuracy: 0.5474 - val_loss: 1.2306 - val_accuracy: 0.3897\n",
      "Epoch 9/20\n",
      "780/780 [==============================] - 1s 2ms/step - loss: 1.0492 - accuracy: 0.5372 - val_loss: 1.1176 - val_accuracy: 0.4744\n",
      "Epoch 10/20\n",
      "780/780 [==============================] - 1s 2ms/step - loss: 0.9841 - accuracy: 0.5859 - val_loss: 1.0846 - val_accuracy: 0.5077\n",
      "Epoch 11/20\n",
      "780/780 [==============================] - 1s 2ms/step - loss: 0.9341 - accuracy: 0.6231 - val_loss: 1.1477 - val_accuracy: 0.5154\n",
      "Epoch 12/20\n",
      "780/780 [==============================] - 1s 2ms/step - loss: 0.8655 - accuracy: 0.6487 - val_loss: 1.1843 - val_accuracy: 0.4795\n",
      "Epoch 13/20\n",
      "780/780 [==============================] - 1s 2ms/step - loss: 0.7428 - accuracy: 0.7026 - val_loss: 2.0949 - val_accuracy: 0.5128\n",
      "Epoch 14/20\n",
      "780/780 [==============================] - 1s 2ms/step - loss: 0.7095 - accuracy: 0.7359 - val_loss: 1.5598 - val_accuracy: 0.4641\n",
      "Epoch 15/20\n",
      "780/780 [==============================] - 1s 2ms/step - loss: 0.6767 - accuracy: 0.7538 - val_loss: 2.2649 - val_accuracy: 0.3949\n",
      "Epoch 16/20\n",
      "780/780 [==============================] - 1s 2ms/step - loss: 0.7052 - accuracy: 0.7538 - val_loss: 2.2976 - val_accuracy: 0.4410\n",
      "Epoch 17/20\n",
      "780/780 [==============================] - 1s 2ms/step - loss: 0.6789 - accuracy: 0.7449 - val_loss: 1.3278 - val_accuracy: 0.5513\n",
      "Epoch 18/20\n",
      "780/780 [==============================] - 1s 2ms/step - loss: 0.4919 - accuracy: 0.8064 - val_loss: 1.5835 - val_accuracy: 0.5564\n",
      "Epoch 19/20\n",
      "780/780 [==============================] - 1s 2ms/step - loss: 0.4113 - accuracy: 0.8500 - val_loss: 1.5252 - val_accuracy: 0.5590\n",
      "Epoch 20/20\n",
      "780/780 [==============================] - 1s 2ms/step - loss: 0.2822 - accuracy: 0.9000 - val_loss: 2.1986 - val_accuracy: 0.5795\n"
     ]
    }
   ],
   "source": [
    "history = model.fit(x_train, y_train, epochs=20, batch_size=64, verbose=1, \n",
    "          validation_data=(x_validation, y_validation))"
   ]
  },
  {
   "cell_type": "code",
   "execution_count": 11,
   "metadata": {},
   "outputs": [
    {
     "data": {
      "image/png": "[encoded data removed]",
      "text/plain": [
       "<Figure size 432x288 with 1 Axes>"
      ]
     },
     "metadata": {
      "needs_background": "light"
     },
     "output_type": "display_data"
    },
    {
     "data": {
      "image/png": "[encoded data removed]",
      "text/plain": [
       "<Figure size 432x288 with 1 Axes>"
      ]
     },
     "metadata": {
      "needs_background": "light"
     },
     "output_type": "display_data"
    }
   ],
   "source": [
    "# plotting the results\n",
    "acc = history.history['accuracy']\n",
    "val_acc = history.history['val_accuracy']\n",
    "loss = history.history['loss']\n",
    "val_loss = history.history['val_loss']\n",
    "\n",
    "epochs = range(1, len(acc) + 1)\n",
    "\n",
    "plt.plot(epochs, acc, 'bo', label='Training acc')\n",
    "plt.plot(epochs, val_acc, 'b', label='Validation acc')\n",
    "plt.title('Training and validation accuracy')\n",
    "plt.legend()\n",
    "\n",
    "plt.figure()\n",
    "\n",
    "plt.plot(epochs, loss, 'bo', label='Training loss')\n",
    "plt.plot(epochs, val_loss, 'b', label='Validation loss')\n",
    "plt.title('Training and validation loss')\n",
    "plt.legend()\n",
    "\n",
    "plt.show()"
   ]
  },
  {
   "cell_type": "code",
   "execution_count": null,
   "metadata": {},
   "outputs": [],
   "source": [
    "p1_a"
   ]
  },
  {
   "cell_type": "code",
   "execution_count": null,
   "metadata": {},
   "outputs": [],
   "source": [
    "to_categorical(p1a_y, num_classes=4)"
   ]
  },
  {
   "cell_type": "code",
   "execution_count": null,
   "metadata": {},
   "outputs": [],
   "source": [
    "y_train"
   ]
  },
  {
   "cell_type": "code",
   "execution_count": null,
   "metadata": {},
   "outputs": [],
   "source": []
  },
  {
   "cell_type": "code",
   "execution_count": null,
   "metadata": {},
   "outputs": [],
   "source": []
  },
  {
   "cell_type": "code",
   "execution_count": null,
   "metadata": {},
   "outputs": [],
   "source": []
  },
  {
   "cell_type": "code",
   "execution_count": null,
   "metadata": {},
   "outputs": [],
   "source": []
  },
  {
   "cell_type": "code",
   "execution_count": null,
   "metadata": {},
   "outputs": [],
   "source": []
  },
  {
   "cell_type": "code",
   "execution_count": null,
   "metadata": {},
   "outputs": [],
   "source": []
  },
  {
   "cell_type": "code",
   "execution_count": null,
   "metadata": {},
   "outputs": [],
   "source": []
  },
  {
   "cell_type": "code",
   "execution_count": null,
   "metadata": {},
   "outputs": [],
   "source": []
  },
  {
   "cell_type": "code",
   "execution_count": null,
   "metadata": {},
   "outputs": [],
   "source": []
  },
  {
   "cell_type": "code",
   "execution_count": null,
   "metadata": {},
   "outputs": [],
   "source": [
    "import keras\n",
    "from keras.optimizers import Adam\n",
    "from keras.models import Sequential\n",
    "from keras.layers import Dense, Dropout\n",
    "from keras.layers import Flatten, AveragePooling2D, Conv2D\n",
    "\n",
    "model = Sequential()\n",
    "\n",
    "model.add(Conv2D(32, (3, 3), input_shape=(220, 220, 1), name='L01', activation='relu'))\n",
    "model.add(Conv2D(32, (3, 3), name='L02', activation='relu'))\n",
    "\n",
    "model.add(AveragePooling2D(pool_size=(2, 2), name='L03'))\n",
    "model.add(Conv2D(64, (3, 3), name='L04', activation='relu'))\n",
    "model.add(Conv2D(64, (3, 3), name='L05', activation='relu'))\n",
    "    \n",
    "model.add(AveragePooling2D(pool_size=(2, 2), name='L06'))\n",
    "    \n",
    "model.add(Conv2D(128, (3, 3), name='L07', activation='relu'))\n",
    "model.add(Conv2D(128, (3, 3), name='L08', activation='relu'))\n",
    "model.add(AveragePooling2D(pool_size=(2, 2), name='L09'))\n",
    "\n",
    "model.add(Conv2D(128, (3, 3), name='L10', activation='relu'))\n",
    "model.add(Conv2D(128, (3, 3), name='L11', activation='relu'))\n",
    "model.add(AveragePooling2D(pool_size=(2, 2), name='L12'))\n",
    "    \n",
    "model.add(Conv2D(128, (3, 3), name='L13', activation='relu'))\n",
    "model.add(Conv2D(128, (3, 3), name='L14', activation='relu'))\n",
    "model.add(AveragePooling2D(pool_size=(2, 2), name='L15'))\n",
    "    \n",
    "model.add(Flatten())\n",
    "\n",
    "model.add(Dropout(0.5))\n",
    "model.add(Dense(256, name='L16', activation='relu'))\n",
    "model.add(Dense(256, name='L17', activation='relu'))\n",
    "\n",
    "model.add(Dense(4, name='L18', activation='softmax'))\n",
    "model.compile(optimizer=Adam(lr=1e-4, beta_1=0.9, beta_2=0.999), \n",
    "              loss='categorical_crossentropy', metrics=['accuracy'])\n"
   ]
  },
  {
   "cell_type": "code",
   "execution_count": null,
   "metadata": {},
   "outputs": [],
   "source": [
    "model.summary()"
   ]
  },
  {
   "cell_type": "code",
   "execution_count": null,
   "metadata": {},
   "outputs": [],
   "source": [
    "y_train"
   ]
  },
  {
   "cell_type": "code",
   "execution_count": null,
   "metadata": {},
   "outputs": [],
   "source": [
    "model.fit(x_train, y_train, epochs=10, batch_size=64, verbose=1, \n",
    "          validation_data=(x_validation, y_validation))"
   ]
  },
  {
   "cell_type": "code",
   "execution_count": null,
   "metadata": {},
   "outputs": [],
   "source": []
  },
  {
   "cell_type": "code",
   "execution_count": null,
   "metadata": {},
   "outputs": [],
   "source": []
  },
  {
   "cell_type": "code",
   "execution_count": null,
   "metadata": {},
   "outputs": [],
   "source": []
  },
  {
   "cell_type": "code",
   "execution_count": null,
   "metadata": {},
   "outputs": [],
   "source": []
  },
  {
   "cell_type": "code",
   "execution_count": null,
   "metadata": {},
   "outputs": [],
   "source": []
  },
  {
   "cell_type": "code",
   "execution_count": null,
   "metadata": {},
   "outputs": [],
   "source": []
  },
  {
   "cell_type": "code",
   "execution_count": null,
   "metadata": {},
   "outputs": [],
   "source": []
  },
  {
   "cell_type": "code",
   "execution_count": null,
   "metadata": {},
   "outputs": [],
   "source": []
  },
  {
   "cell_type": "code",
   "execution_count": null,
   "metadata": {},
   "outputs": [],
   "source": [
    "# use pre-trained ResNet-50\n",
    "conv_base = ResNet50(weights='imagenet', include_top=False, input_shape=(256,256,3))\n",
    "conv_base.summary()"
   ]
  },
  {
   "cell_type": "code",
   "execution_count": null,
   "metadata": {},
   "outputs": [],
   "source": []
  }
 ],
 "metadata": {
  "kernelspec": {
   "display_name": "Python 3",
   "language": "python",
   "name": "python3"
  },
  "language_info": {
   "codemirror_mode": {
    "name": "ipython",
    "version": 3
   },
   "file_extension": ".py",
   "mimetype": "text/x-python",
   "name": "python",
   "nbconvert_exporter": "python",
   "pygments_lexer": "ipython3",
   "version": "3.7.4"
  }
 },
 "nbformat": 4,
 "nbformat_minor": 2
}
